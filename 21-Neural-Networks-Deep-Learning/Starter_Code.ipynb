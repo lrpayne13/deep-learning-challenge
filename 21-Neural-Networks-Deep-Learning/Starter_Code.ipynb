{
 "cells": [
  {
   "cell_type": "markdown",
   "metadata": {},
   "source": [
    "## Preprocessing"
   ]
  },
  {
   "cell_type": "code",
   "execution_count": 22,
   "metadata": {},
   "outputs": [
    {
     "data": {
      "text/html": [
       "<div>\n",
       "<style scoped>\n",
       "    .dataframe tbody tr th:only-of-type {\n",
       "        vertical-align: middle;\n",
       "    }\n",
       "\n",
       "    .dataframe tbody tr th {\n",
       "        vertical-align: top;\n",
       "    }\n",
       "\n",
       "    .dataframe thead th {\n",
       "        text-align: right;\n",
       "    }\n",
       "</style>\n",
       "<table border=\"1\" class=\"dataframe\">\n",
       "  <thead>\n",
       "    <tr style=\"text-align: right;\">\n",
       "      <th></th>\n",
       "      <th>EIN</th>\n",
       "      <th>NAME</th>\n",
       "      <th>APPLICATION_TYPE</th>\n",
       "      <th>AFFILIATION</th>\n",
       "      <th>CLASSIFICATION</th>\n",
       "      <th>USE_CASE</th>\n",
       "      <th>ORGANIZATION</th>\n",
       "      <th>STATUS</th>\n",
       "      <th>INCOME_AMT</th>\n",
       "      <th>SPECIAL_CONSIDERATIONS</th>\n",
       "      <th>ASK_AMT</th>\n",
       "      <th>IS_SUCCESSFUL</th>\n",
       "    </tr>\n",
       "  </thead>\n",
       "  <tbody>\n",
       "    <tr>\n",
       "      <th>0</th>\n",
       "      <td>10520599</td>\n",
       "      <td>BLUE KNIGHTS MOTORCYCLE CLUB</td>\n",
       "      <td>T10</td>\n",
       "      <td>Independent</td>\n",
       "      <td>C1000</td>\n",
       "      <td>ProductDev</td>\n",
       "      <td>Association</td>\n",
       "      <td>1</td>\n",
       "      <td>0</td>\n",
       "      <td>N</td>\n",
       "      <td>5000</td>\n",
       "      <td>1</td>\n",
       "    </tr>\n",
       "    <tr>\n",
       "      <th>1</th>\n",
       "      <td>10531628</td>\n",
       "      <td>AMERICAN CHESAPEAKE CLUB CHARITABLE TR</td>\n",
       "      <td>T3</td>\n",
       "      <td>Independent</td>\n",
       "      <td>C2000</td>\n",
       "      <td>Preservation</td>\n",
       "      <td>Co-operative</td>\n",
       "      <td>1</td>\n",
       "      <td>1-9999</td>\n",
       "      <td>N</td>\n",
       "      <td>108590</td>\n",
       "      <td>1</td>\n",
       "    </tr>\n",
       "    <tr>\n",
       "      <th>2</th>\n",
       "      <td>10547893</td>\n",
       "      <td>ST CLOUD PROFESSIONAL FIREFIGHTERS</td>\n",
       "      <td>T5</td>\n",
       "      <td>CompanySponsored</td>\n",
       "      <td>C3000</td>\n",
       "      <td>ProductDev</td>\n",
       "      <td>Association</td>\n",
       "      <td>1</td>\n",
       "      <td>0</td>\n",
       "      <td>N</td>\n",
       "      <td>5000</td>\n",
       "      <td>0</td>\n",
       "    </tr>\n",
       "    <tr>\n",
       "      <th>3</th>\n",
       "      <td>10553066</td>\n",
       "      <td>SOUTHSIDE ATHLETIC ASSOCIATION</td>\n",
       "      <td>T3</td>\n",
       "      <td>CompanySponsored</td>\n",
       "      <td>C2000</td>\n",
       "      <td>Preservation</td>\n",
       "      <td>Trust</td>\n",
       "      <td>1</td>\n",
       "      <td>10000-24999</td>\n",
       "      <td>N</td>\n",
       "      <td>6692</td>\n",
       "      <td>1</td>\n",
       "    </tr>\n",
       "    <tr>\n",
       "      <th>4</th>\n",
       "      <td>10556103</td>\n",
       "      <td>GENETIC RESEARCH INSTITUTE OF THE DESERT</td>\n",
       "      <td>T3</td>\n",
       "      <td>Independent</td>\n",
       "      <td>C1000</td>\n",
       "      <td>Heathcare</td>\n",
       "      <td>Trust</td>\n",
       "      <td>1</td>\n",
       "      <td>100000-499999</td>\n",
       "      <td>N</td>\n",
       "      <td>142590</td>\n",
       "      <td>1</td>\n",
       "    </tr>\n",
       "  </tbody>\n",
       "</table>\n",
       "</div>"
      ],
      "text/plain": [
       "        EIN                                      NAME APPLICATION_TYPE  \\\n",
       "0  10520599              BLUE KNIGHTS MOTORCYCLE CLUB              T10   \n",
       "1  10531628    AMERICAN CHESAPEAKE CLUB CHARITABLE TR               T3   \n",
       "2  10547893        ST CLOUD PROFESSIONAL FIREFIGHTERS               T5   \n",
       "3  10553066            SOUTHSIDE ATHLETIC ASSOCIATION               T3   \n",
       "4  10556103  GENETIC RESEARCH INSTITUTE OF THE DESERT               T3   \n",
       "\n",
       "        AFFILIATION CLASSIFICATION      USE_CASE  ORGANIZATION  STATUS  \\\n",
       "0       Independent          C1000    ProductDev   Association       1   \n",
       "1       Independent          C2000  Preservation  Co-operative       1   \n",
       "2  CompanySponsored          C3000    ProductDev   Association       1   \n",
       "3  CompanySponsored          C2000  Preservation         Trust       1   \n",
       "4       Independent          C1000     Heathcare         Trust       1   \n",
       "\n",
       "      INCOME_AMT SPECIAL_CONSIDERATIONS  ASK_AMT  IS_SUCCESSFUL  \n",
       "0              0                      N     5000              1  \n",
       "1         1-9999                      N   108590              1  \n",
       "2              0                      N     5000              0  \n",
       "3    10000-24999                      N     6692              1  \n",
       "4  100000-499999                      N   142590              1  "
      ]
     },
     "execution_count": 22,
     "metadata": {},
     "output_type": "execute_result"
    }
   ],
   "source": [
    "# Import our dependencies\n",
    "from sklearn.model_selection import train_test_split\n",
    "from sklearn.preprocessing import StandardScaler\n",
    "import pandas as pd\n",
    "import tensorflow as tf\n",
    "\n",
    "#  Import and read the charity_data.csv.\n",
    "import pandas as pd \n",
    "application_df = pd.read_csv(\"https://static.bc-edx.com/data/dl-1-2/m21/lms/starter/charity_data.csv\")\n",
    "application_df.head()"
   ]
  },
  {
   "cell_type": "code",
   "execution_count": 23,
   "metadata": {},
   "outputs": [],
   "source": [
    "# Drop the non-beneficial ID columns, 'EIN' and 'NAME'.\n",
    "application_df = application_df.drop(['EIN', 'NAME'], axis=1)\n"
   ]
  },
  {
   "cell_type": "code",
   "execution_count": 24,
   "metadata": {},
   "outputs": [
    {
     "data": {
      "text/plain": [
       "APPLICATION_TYPE            17\n",
       "AFFILIATION                  6\n",
       "CLASSIFICATION              71\n",
       "USE_CASE                     5\n",
       "ORGANIZATION                 4\n",
       "STATUS                       2\n",
       "INCOME_AMT                   9\n",
       "SPECIAL_CONSIDERATIONS       2\n",
       "ASK_AMT                   8747\n",
       "IS_SUCCESSFUL                2\n",
       "dtype: int64"
      ]
     },
     "execution_count": 24,
     "metadata": {},
     "output_type": "execute_result"
    }
   ],
   "source": [
    "# Determine the number of unique values in each column.\n",
    "application_df.nunique()"
   ]
  },
  {
   "cell_type": "code",
   "execution_count": 25,
   "metadata": {},
   "outputs": [
    {
     "name": "stdout",
     "output_type": "stream",
     "text": [
      "APPLICATION_TYPE\n",
      "T3     27037\n",
      "T4      1542\n",
      "T6      1216\n",
      "T5      1173\n",
      "T19     1065\n",
      "T8       737\n",
      "T7       725\n",
      "T10      528\n",
      "T9       156\n",
      "T13       66\n",
      "T12       27\n",
      "T2        16\n",
      "T25        3\n",
      "T14        3\n",
      "T29        2\n",
      "T15        2\n",
      "T17        1\n",
      "Name: count, dtype: int64\n"
     ]
    }
   ],
   "source": [
    "# Look at APPLICATION_TYPE value counts for binning\n",
    "application_type_counts = application_df['APPLICATION_TYPE'].value_counts()\n",
    "print(application_type_counts)\n"
   ]
  },
  {
   "cell_type": "code",
   "execution_count": 26,
   "metadata": {},
   "outputs": [
    {
     "data": {
      "text/plain": [
       "APPLICATION_TYPE\n",
       "T3       27037\n",
       "T4        1542\n",
       "T6        1216\n",
       "T5        1173\n",
       "T19       1065\n",
       "T8         737\n",
       "T7         725\n",
       "T10        528\n",
       "T9         156\n",
       "Other      120\n",
       "Name: count, dtype: int64"
      ]
     },
     "execution_count": 26,
     "metadata": {},
     "output_type": "execute_result"
    }
   ],
   "source": [
    "# Choose a cutoff value and create a list of application types to be replaced\n",
    "# use the variable name `application_types_to_replace`\n",
    "cutoff = 100 \n",
    "application_types_to_replace = application_type_counts[application_type_counts < cutoff].index.tolist()\n",
    "\n",
    "# Replace in dataframe\n",
    "for app in application_types_to_replace:\n",
    "    application_df['APPLICATION_TYPE'] = application_df['APPLICATION_TYPE'].replace(app,\"Other\")\n",
    "\n",
    "# Check to make sure binning was successful\n",
    "application_df['APPLICATION_TYPE'].value_counts()"
   ]
  },
  {
   "cell_type": "code",
   "execution_count": 27,
   "metadata": {},
   "outputs": [
    {
     "name": "stdout",
     "output_type": "stream",
     "text": [
      "CLASSIFICATION\n",
      "C1000    17326\n",
      "C2000     6074\n",
      "C1200     4837\n",
      "C3000     1918\n",
      "C2100     1883\n",
      "         ...  \n",
      "C4120        1\n",
      "C8210        1\n",
      "C2561        1\n",
      "C4500        1\n",
      "C2150        1\n",
      "Name: count, Length: 71, dtype: int64\n"
     ]
    }
   ],
   "source": [
    "# Look at CLASSIFICATION value counts for binning\n",
    "classification_value_counts = application_df['CLASSIFICATION'].value_counts()\n",
    "\n",
    "print(classification_value_counts)"
   ]
  },
  {
   "cell_type": "code",
   "execution_count": 28,
   "metadata": {},
   "outputs": [
    {
     "name": "stdout",
     "output_type": "stream",
     "text": [
      "CLASSIFICATION\n",
      "C1000    17326\n",
      "C2000     6074\n",
      "C1200     4837\n",
      "C3000     1918\n",
      "C2100     1883\n",
      "C7000      777\n",
      "C1700      287\n",
      "C4000      194\n",
      "C5000      116\n",
      "C1270      114\n",
      "C2700      104\n",
      "C2800       95\n",
      "C7100       75\n",
      "C1300       58\n",
      "C1280       50\n",
      "C1230       36\n",
      "C1400       34\n",
      "C7200       32\n",
      "C2300       32\n",
      "C1240       30\n",
      "C8000       20\n",
      "C7120       18\n",
      "C1500       16\n",
      "C1800       15\n",
      "C6000       15\n",
      "C1250       14\n",
      "C8200       11\n",
      "C1238       10\n",
      "C1278       10\n",
      "C1235        9\n",
      "C1237        9\n",
      "C7210        7\n",
      "C2400        6\n",
      "C1720        6\n",
      "C4100        6\n",
      "C1257        5\n",
      "C1600        5\n",
      "C1260        3\n",
      "C2710        3\n",
      "C0           3\n",
      "C3200        2\n",
      "C1234        2\n",
      "C1246        2\n",
      "C1267        2\n",
      "C1256        2\n",
      "Name: count, dtype: int64\n"
     ]
    }
   ],
   "source": [
    "# You may find it helpful to look at CLASSIFICATION value counts >1\n",
    "classification_value_counts = application_df['CLASSIFICATION'].value_counts()\n",
    "classifications_more_than_once = classification_value_counts[classification_value_counts > 1]\n",
    "print(classifications_more_than_once)\n"
   ]
  },
  {
   "cell_type": "code",
   "execution_count": 29,
   "metadata": {},
   "outputs": [
    {
     "data": {
      "text/plain": [
       "CLASSIFICATION\n",
       "C1000    17326\n",
       "C2000     6074\n",
       "C1200     4837\n",
       "C3000     1918\n",
       "C2100     1883\n",
       "Other     1484\n",
       "C7000      777\n",
       "Name: count, dtype: int64"
      ]
     },
     "execution_count": 29,
     "metadata": {},
     "output_type": "execute_result"
    }
   ],
   "source": [
    "# Choose a cutoff value and create a list of classifications to be replaced\n",
    "# use the variable name `classifications_to_replace`\n",
    "cutoff = 500\n",
    "\n",
    "classifications_to_replace = list(classification_value_counts[classification_value_counts < cutoff].index)\n",
    "\n",
    "# Replace in dataframe\n",
    "for cls in classifications_to_replace:\n",
    "    application_df['CLASSIFICATION'] = application_df['CLASSIFICATION'].replace(cls,\"Other\")\n",
    "    \n",
    "# Check to make sure binning was successful\n",
    "application_df['CLASSIFICATION'].value_counts()"
   ]
  },
  {
   "cell_type": "code",
   "execution_count": 30,
   "metadata": {},
   "outputs": [
    {
     "name": "stdout",
     "output_type": "stream",
     "text": [
      "   STATUS  ASK_AMT  IS_SUCCESSFUL  APPLICATION_TYPE_Other  \\\n",
      "0       1     5000              1                       0   \n",
      "1       1   108590              1                       0   \n",
      "2       1     5000              0                       0   \n",
      "3       1     6692              1                       0   \n",
      "4       1   142590              1                       0   \n",
      "\n",
      "   APPLICATION_TYPE_T10  APPLICATION_TYPE_T19  APPLICATION_TYPE_T3  \\\n",
      "0                     1                     0                    0   \n",
      "1                     0                     0                    1   \n",
      "2                     0                     0                    0   \n",
      "3                     0                     0                    1   \n",
      "4                     0                     0                    1   \n",
      "\n",
      "   APPLICATION_TYPE_T4  APPLICATION_TYPE_T5  APPLICATION_TYPE_T6  ...  \\\n",
      "0                    0                    0                    0  ...   \n",
      "1                    0                    0                    0  ...   \n",
      "2                    0                    1                    0  ...   \n",
      "3                    0                    0                    0  ...   \n",
      "4                    0                    0                    0  ...   \n",
      "\n",
      "   INCOME_AMT_1-9999  INCOME_AMT_10000-24999  INCOME_AMT_100000-499999  \\\n",
      "0                  0                       0                         0   \n",
      "1                  1                       0                         0   \n",
      "2                  0                       0                         0   \n",
      "3                  0                       1                         0   \n",
      "4                  0                       0                         1   \n",
      "\n",
      "   INCOME_AMT_10M-50M  INCOME_AMT_1M-5M  INCOME_AMT_25000-99999  \\\n",
      "0                   0                 0                       0   \n",
      "1                   0                 0                       0   \n",
      "2                   0                 0                       0   \n",
      "3                   0                 0                       0   \n",
      "4                   0                 0                       0   \n",
      "\n",
      "   INCOME_AMT_50M+  INCOME_AMT_5M-10M  SPECIAL_CONSIDERATIONS_N  \\\n",
      "0                0                  0                         1   \n",
      "1                0                  0                         1   \n",
      "2                0                  0                         1   \n",
      "3                0                  0                         1   \n",
      "4                0                  0                         1   \n",
      "\n",
      "   SPECIAL_CONSIDERATIONS_Y  \n",
      "0                         0  \n",
      "1                         0  \n",
      "2                         0  \n",
      "3                         0  \n",
      "4                         0  \n",
      "\n",
      "[5 rows x 46 columns]\n"
     ]
    }
   ],
   "source": [
    "# Convert categorical data to numeric with `pd.get_dummies`\n",
    "encoded_df = pd.get_dummies(application_df)\n",
    "encoded_df = encoded_df * 1  \n",
    "\n",
    "print(encoded_df.head())"
   ]
  },
  {
   "cell_type": "code",
   "execution_count": 31,
   "metadata": {},
   "outputs": [],
   "source": [
    "# Split our preprocessed data into our features and target arrays\n",
    "X = encoded_df.drop('IS_SUCCESSFUL', axis=1)  \n",
    "y = encoded_df['IS_SUCCESSFUL']  \n",
    "\n",
    "# Split the preprocessed data into a training and testing dataset\n",
    "X_train, X_test, y_train, y_test = train_test_split(X, y, test_size=0.2, random_state=42)\n"
   ]
  },
  {
   "cell_type": "code",
   "execution_count": 32,
   "metadata": {},
   "outputs": [],
   "source": [
    "# Create a StandardScaler instances\n",
    "scaler = StandardScaler()\n",
    "\n",
    "# Fit the StandardScaler\n",
    "X_scaler = scaler.fit(X_train)\n",
    "\n",
    "# Scale the data\n",
    "X_train_scaled = X_scaler.transform(X_train)\n",
    "X_test_scaled = X_scaler.transform(X_test)"
   ]
  },
  {
   "cell_type": "markdown",
   "metadata": {},
   "source": [
    "## Compile, Train and Evaluate the Model"
   ]
  },
  {
   "cell_type": "code",
   "execution_count": 33,
   "metadata": {},
   "outputs": [
    {
     "name": "stdout",
     "output_type": "stream",
     "text": [
      "Model: \"sequential_1\"\n",
      "_________________________________________________________________\n",
      " Layer (type)                Output Shape              Param #   \n",
      "=================================================================\n",
      " dense_3 (Dense)             (None, 80)                3680      \n",
      "                                                                 \n",
      " dense_4 (Dense)             (None, 30)                2430      \n",
      "                                                                 \n",
      " dense_5 (Dense)             (None, 1)                 31        \n",
      "                                                                 \n",
      "=================================================================\n",
      "Total params: 6141 (23.99 KB)\n",
      "Trainable params: 6141 (23.99 KB)\n",
      "Non-trainable params: 0 (0.00 Byte)\n",
      "_________________________________________________________________\n"
     ]
    }
   ],
   "source": [
    "# Define the model - deep neural net, i.e., the number of input features and hidden nodes for each layer.\n",
    "number_of_input_features = X_train_scaled.shape[1]\n",
    "\n",
    "nn = tf.keras.models.Sequential()\n",
    "\n",
    "# First hidden layer\n",
    "nn.add(tf.keras.layers.Dense(units=80, activation='relu', input_dim=number_of_input_features))\n",
    "\n",
    "# Second hidden layer\n",
    "nn.add(tf.keras.layers.Dense(units=30, activation='relu'))\n",
    "\n",
    "# Output layer\n",
    "nn.add(tf.keras.layers.Dense(units=1, activation='sigmoid'))\n",
    "\n",
    "# Check the structure of the model\n",
    "nn.summary()"
   ]
  },
  {
   "cell_type": "code",
   "execution_count": 34,
   "metadata": {},
   "outputs": [],
   "source": [
    "# Compile the model\n",
    "nn.compile(optimizer='adam', loss='binary_crossentropy', metrics=['accuracy'])\n"
   ]
  },
  {
   "cell_type": "code",
   "execution_count": 35,
   "metadata": {},
   "outputs": [
    {
     "name": "stdout",
     "output_type": "stream",
     "text": [
      "Epoch 1/100\n"
     ]
    },
    {
     "name": "stdout",
     "output_type": "stream",
     "text": [
      "686/686 [==============================] - 4s 4ms/step - loss: 0.5761 - accuracy: 0.7176 - val_loss: 0.5491 - val_accuracy: 0.7389\n",
      "Epoch 2/100\n",
      "686/686 [==============================] - 2s 3ms/step - loss: 0.5575 - accuracy: 0.7288 - val_loss: 0.5510 - val_accuracy: 0.7321\n",
      "Epoch 3/100\n",
      "686/686 [==============================] - 2s 3ms/step - loss: 0.5539 - accuracy: 0.7285 - val_loss: 0.5483 - val_accuracy: 0.7369\n",
      "Epoch 4/100\n",
      "686/686 [==============================] - 2s 3ms/step - loss: 0.5514 - accuracy: 0.7287 - val_loss: 0.5475 - val_accuracy: 0.7371\n",
      "Epoch 5/100\n",
      "686/686 [==============================] - 2s 4ms/step - loss: 0.5507 - accuracy: 0.7296 - val_loss: 0.5471 - val_accuracy: 0.7376\n",
      "Epoch 6/100\n",
      "686/686 [==============================] - 3s 4ms/step - loss: 0.5491 - accuracy: 0.7311 - val_loss: 0.5446 - val_accuracy: 0.7347\n",
      "Epoch 7/100\n",
      "686/686 [==============================] - 3s 4ms/step - loss: 0.5485 - accuracy: 0.7316 - val_loss: 0.5439 - val_accuracy: 0.7383\n",
      "Epoch 8/100\n",
      "686/686 [==============================] - 3s 4ms/step - loss: 0.5475 - accuracy: 0.7319 - val_loss: 0.5466 - val_accuracy: 0.7367\n",
      "Epoch 9/100\n",
      "686/686 [==============================] - 3s 4ms/step - loss: 0.5466 - accuracy: 0.7314 - val_loss: 0.5468 - val_accuracy: 0.7378\n",
      "Epoch 10/100\n",
      "686/686 [==============================] - 2s 4ms/step - loss: 0.5460 - accuracy: 0.7329 - val_loss: 0.5432 - val_accuracy: 0.7325\n",
      "Epoch 11/100\n",
      "686/686 [==============================] - 3s 4ms/step - loss: 0.5454 - accuracy: 0.7330 - val_loss: 0.5443 - val_accuracy: 0.7369\n",
      "Epoch 12/100\n",
      "686/686 [==============================] - 3s 4ms/step - loss: 0.5453 - accuracy: 0.7323 - val_loss: 0.5453 - val_accuracy: 0.7358\n",
      "Epoch 13/100\n",
      "686/686 [==============================] - 3s 4ms/step - loss: 0.5450 - accuracy: 0.7335 - val_loss: 0.5450 - val_accuracy: 0.7391\n",
      "Epoch 14/100\n",
      "686/686 [==============================] - 3s 4ms/step - loss: 0.5445 - accuracy: 0.7334 - val_loss: 0.5426 - val_accuracy: 0.7372\n",
      "Epoch 15/100\n",
      "686/686 [==============================] - 3s 4ms/step - loss: 0.5436 - accuracy: 0.7354 - val_loss: 0.5460 - val_accuracy: 0.7382\n",
      "Epoch 16/100\n",
      "686/686 [==============================] - 3s 4ms/step - loss: 0.5434 - accuracy: 0.7332 - val_loss: 0.5434 - val_accuracy: 0.7374\n",
      "Epoch 17/100\n",
      "686/686 [==============================] - 3s 4ms/step - loss: 0.5433 - accuracy: 0.7337 - val_loss: 0.5421 - val_accuracy: 0.7387\n",
      "Epoch 18/100\n",
      "686/686 [==============================] - 3s 4ms/step - loss: 0.5434 - accuracy: 0.7348 - val_loss: 0.5420 - val_accuracy: 0.7385\n",
      "Epoch 19/100\n",
      "686/686 [==============================] - 3s 4ms/step - loss: 0.5422 - accuracy: 0.7333 - val_loss: 0.5443 - val_accuracy: 0.7329\n",
      "Epoch 20/100\n",
      "686/686 [==============================] - 3s 4ms/step - loss: 0.5421 - accuracy: 0.7348 - val_loss: 0.5412 - val_accuracy: 0.7400\n",
      "Epoch 21/100\n",
      "686/686 [==============================] - 3s 4ms/step - loss: 0.5422 - accuracy: 0.7345 - val_loss: 0.5434 - val_accuracy: 0.7389\n",
      "Epoch 22/100\n",
      "686/686 [==============================] - 2s 4ms/step - loss: 0.5413 - accuracy: 0.7364 - val_loss: 0.5450 - val_accuracy: 0.7363\n",
      "Epoch 23/100\n",
      "686/686 [==============================] - 2s 4ms/step - loss: 0.5414 - accuracy: 0.7355 - val_loss: 0.5437 - val_accuracy: 0.7389\n",
      "Epoch 24/100\n",
      "686/686 [==============================] - 2s 4ms/step - loss: 0.5411 - accuracy: 0.7348 - val_loss: 0.5435 - val_accuracy: 0.7371\n",
      "Epoch 25/100\n",
      "686/686 [==============================] - 2s 4ms/step - loss: 0.5409 - accuracy: 0.7353 - val_loss: 0.5453 - val_accuracy: 0.7376\n",
      "Epoch 26/100\n",
      "686/686 [==============================] - 2s 3ms/step - loss: 0.5409 - accuracy: 0.7346 - val_loss: 0.5436 - val_accuracy: 0.7391\n",
      "Epoch 27/100\n",
      "686/686 [==============================] - 2s 3ms/step - loss: 0.5409 - accuracy: 0.7355 - val_loss: 0.5443 - val_accuracy: 0.7396\n",
      "Epoch 28/100\n",
      "686/686 [==============================] - 2s 3ms/step - loss: 0.5407 - accuracy: 0.7365 - val_loss: 0.5430 - val_accuracy: 0.7396\n",
      "Epoch 29/100\n",
      "686/686 [==============================] - 2s 3ms/step - loss: 0.5401 - accuracy: 0.7363 - val_loss: 0.5447 - val_accuracy: 0.7376\n",
      "Epoch 30/100\n",
      "686/686 [==============================] - 2s 3ms/step - loss: 0.5401 - accuracy: 0.7358 - val_loss: 0.5444 - val_accuracy: 0.7396\n",
      "Epoch 31/100\n",
      "686/686 [==============================] - 2s 4ms/step - loss: 0.5401 - accuracy: 0.7358 - val_loss: 0.5434 - val_accuracy: 0.7371\n",
      "Epoch 32/100\n",
      "686/686 [==============================] - 2s 4ms/step - loss: 0.5396 - accuracy: 0.7353 - val_loss: 0.5434 - val_accuracy: 0.7378\n",
      "Epoch 33/100\n",
      "686/686 [==============================] - 2s 3ms/step - loss: 0.5394 - accuracy: 0.7362 - val_loss: 0.5416 - val_accuracy: 0.7376\n",
      "Epoch 34/100\n",
      "686/686 [==============================] - 2s 4ms/step - loss: 0.5397 - accuracy: 0.7362 - val_loss: 0.5437 - val_accuracy: 0.7385\n",
      "Epoch 35/100\n",
      "686/686 [==============================] - 2s 3ms/step - loss: 0.5399 - accuracy: 0.7355 - val_loss: 0.5443 - val_accuracy: 0.7398\n",
      "Epoch 36/100\n",
      "686/686 [==============================] - 2s 3ms/step - loss: 0.5395 - accuracy: 0.7360 - val_loss: 0.5437 - val_accuracy: 0.7392\n",
      "Epoch 37/100\n",
      "686/686 [==============================] - 2s 3ms/step - loss: 0.5394 - accuracy: 0.7372 - val_loss: 0.5418 - val_accuracy: 0.7389\n",
      "Epoch 38/100\n",
      "686/686 [==============================] - 2s 3ms/step - loss: 0.5386 - accuracy: 0.7372 - val_loss: 0.5453 - val_accuracy: 0.7305\n",
      "Epoch 39/100\n",
      "686/686 [==============================] - 2s 3ms/step - loss: 0.5389 - accuracy: 0.7371 - val_loss: 0.5441 - val_accuracy: 0.7400\n",
      "Epoch 40/100\n",
      "686/686 [==============================] - 2s 3ms/step - loss: 0.5397 - accuracy: 0.7360 - val_loss: 0.5446 - val_accuracy: 0.7394\n",
      "Epoch 41/100\n",
      "686/686 [==============================] - 2s 4ms/step - loss: 0.5384 - accuracy: 0.7369 - val_loss: 0.5452 - val_accuracy: 0.7372\n",
      "Epoch 42/100\n",
      "686/686 [==============================] - 2s 3ms/step - loss: 0.5381 - accuracy: 0.7379 - val_loss: 0.5432 - val_accuracy: 0.7389\n",
      "Epoch 43/100\n",
      "686/686 [==============================] - 2s 4ms/step - loss: 0.5383 - accuracy: 0.7364 - val_loss: 0.5465 - val_accuracy: 0.7385\n",
      "Epoch 44/100\n",
      "686/686 [==============================] - 2s 3ms/step - loss: 0.5381 - accuracy: 0.7370 - val_loss: 0.5455 - val_accuracy: 0.7336\n",
      "Epoch 45/100\n",
      "686/686 [==============================] - 2s 3ms/step - loss: 0.5388 - accuracy: 0.7369 - val_loss: 0.5439 - val_accuracy: 0.7400\n",
      "Epoch 46/100\n",
      "686/686 [==============================] - 2s 4ms/step - loss: 0.5376 - accuracy: 0.7376 - val_loss: 0.5446 - val_accuracy: 0.7371\n",
      "Epoch 47/100\n",
      "686/686 [==============================] - 3s 4ms/step - loss: 0.5376 - accuracy: 0.7380 - val_loss: 0.5434 - val_accuracy: 0.7391\n",
      "Epoch 48/100\n",
      "686/686 [==============================] - 2s 4ms/step - loss: 0.5380 - accuracy: 0.7387 - val_loss: 0.5438 - val_accuracy: 0.7387\n",
      "Epoch 49/100\n",
      "686/686 [==============================] - 2s 4ms/step - loss: 0.5375 - accuracy: 0.7370 - val_loss: 0.5459 - val_accuracy: 0.7392\n",
      "Epoch 50/100\n",
      "686/686 [==============================] - 2s 4ms/step - loss: 0.5368 - accuracy: 0.7375 - val_loss: 0.5456 - val_accuracy: 0.7400\n",
      "Epoch 51/100\n",
      "686/686 [==============================] - 3s 4ms/step - loss: 0.5371 - accuracy: 0.7372 - val_loss: 0.5469 - val_accuracy: 0.7391\n",
      "Epoch 52/100\n",
      "686/686 [==============================] - 3s 4ms/step - loss: 0.5374 - accuracy: 0.7386 - val_loss: 0.5455 - val_accuracy: 0.7378\n",
      "Epoch 53/100\n",
      "686/686 [==============================] - 2s 4ms/step - loss: 0.5371 - accuracy: 0.7373 - val_loss: 0.5432 - val_accuracy: 0.7389\n",
      "Epoch 54/100\n",
      "686/686 [==============================] - 2s 3ms/step - loss: 0.5371 - accuracy: 0.7378 - val_loss: 0.5461 - val_accuracy: 0.7394\n",
      "Epoch 55/100\n",
      "686/686 [==============================] - 3s 4ms/step - loss: 0.5367 - accuracy: 0.7375 - val_loss: 0.5457 - val_accuracy: 0.7396\n",
      "Epoch 56/100\n",
      "686/686 [==============================] - 3s 4ms/step - loss: 0.5368 - accuracy: 0.7377 - val_loss: 0.5458 - val_accuracy: 0.7394\n",
      "Epoch 57/100\n",
      "686/686 [==============================] - 2s 3ms/step - loss: 0.5369 - accuracy: 0.7382 - val_loss: 0.5448 - val_accuracy: 0.7387\n",
      "Epoch 58/100\n",
      "686/686 [==============================] - 2s 3ms/step - loss: 0.5364 - accuracy: 0.7370 - val_loss: 0.5450 - val_accuracy: 0.7407\n",
      "Epoch 59/100\n",
      "686/686 [==============================] - 3s 4ms/step - loss: 0.5366 - accuracy: 0.7372 - val_loss: 0.5460 - val_accuracy: 0.7400\n",
      "Epoch 60/100\n",
      "686/686 [==============================] - 2s 4ms/step - loss: 0.5363 - accuracy: 0.7370 - val_loss: 0.5437 - val_accuracy: 0.7394\n",
      "Epoch 61/100\n",
      "686/686 [==============================] - 2s 4ms/step - loss: 0.5368 - accuracy: 0.7376 - val_loss: 0.5464 - val_accuracy: 0.7387\n",
      "Epoch 62/100\n",
      "686/686 [==============================] - 2s 4ms/step - loss: 0.5359 - accuracy: 0.7381 - val_loss: 0.5465 - val_accuracy: 0.7396\n",
      "Epoch 63/100\n",
      "686/686 [==============================] - 2s 4ms/step - loss: 0.5362 - accuracy: 0.7387 - val_loss: 0.5454 - val_accuracy: 0.7374\n",
      "Epoch 64/100\n",
      "686/686 [==============================] - 2s 4ms/step - loss: 0.5365 - accuracy: 0.7382 - val_loss: 0.5441 - val_accuracy: 0.7402\n",
      "Epoch 65/100\n",
      "686/686 [==============================] - 2s 4ms/step - loss: 0.5362 - accuracy: 0.7376 - val_loss: 0.5471 - val_accuracy: 0.7389\n",
      "Epoch 66/100\n",
      "686/686 [==============================] - 2s 4ms/step - loss: 0.5363 - accuracy: 0.7374 - val_loss: 0.5456 - val_accuracy: 0.7402\n",
      "Epoch 67/100\n",
      "686/686 [==============================] - 3s 4ms/step - loss: 0.5360 - accuracy: 0.7392 - val_loss: 0.5465 - val_accuracy: 0.7394\n",
      "Epoch 68/100\n",
      "686/686 [==============================] - 3s 4ms/step - loss: 0.5363 - accuracy: 0.7379 - val_loss: 0.5447 - val_accuracy: 0.7411\n",
      "Epoch 69/100\n",
      "686/686 [==============================] - 3s 4ms/step - loss: 0.5356 - accuracy: 0.7375 - val_loss: 0.5480 - val_accuracy: 0.7391\n",
      "Epoch 70/100\n",
      "686/686 [==============================] - 3s 4ms/step - loss: 0.5356 - accuracy: 0.7386 - val_loss: 0.5474 - val_accuracy: 0.7394\n",
      "Epoch 71/100\n",
      "686/686 [==============================] - 2s 4ms/step - loss: 0.5357 - accuracy: 0.7386 - val_loss: 0.5447 - val_accuracy: 0.7407\n",
      "Epoch 72/100\n",
      "686/686 [==============================] - 3s 4ms/step - loss: 0.5358 - accuracy: 0.7371 - val_loss: 0.5450 - val_accuracy: 0.7385\n",
      "Epoch 73/100\n",
      "686/686 [==============================] - 3s 4ms/step - loss: 0.5352 - accuracy: 0.7380 - val_loss: 0.5481 - val_accuracy: 0.7413\n",
      "Epoch 74/100\n",
      "686/686 [==============================] - 3s 4ms/step - loss: 0.5355 - accuracy: 0.7380 - val_loss: 0.5460 - val_accuracy: 0.7382\n",
      "Epoch 75/100\n",
      "686/686 [==============================] - 3s 4ms/step - loss: 0.5352 - accuracy: 0.7378 - val_loss: 0.5474 - val_accuracy: 0.7403\n",
      "Epoch 76/100\n",
      "686/686 [==============================] - 2s 3ms/step - loss: 0.5354 - accuracy: 0.7392 - val_loss: 0.5458 - val_accuracy: 0.7405\n",
      "Epoch 77/100\n",
      "686/686 [==============================] - 3s 4ms/step - loss: 0.5353 - accuracy: 0.7370 - val_loss: 0.5454 - val_accuracy: 0.7422\n",
      "Epoch 78/100\n",
      "686/686 [==============================] - 2s 4ms/step - loss: 0.5350 - accuracy: 0.7387 - val_loss: 0.5477 - val_accuracy: 0.7389\n",
      "Epoch 79/100\n",
      "686/686 [==============================] - 3s 4ms/step - loss: 0.5350 - accuracy: 0.7379 - val_loss: 0.5487 - val_accuracy: 0.7391\n",
      "Epoch 80/100\n",
      "686/686 [==============================] - 3s 4ms/step - loss: 0.5347 - accuracy: 0.7387 - val_loss: 0.5488 - val_accuracy: 0.7396\n",
      "Epoch 81/100\n",
      "686/686 [==============================] - 3s 4ms/step - loss: 0.5348 - accuracy: 0.7389 - val_loss: 0.5495 - val_accuracy: 0.7392\n",
      "Epoch 82/100\n",
      "686/686 [==============================] - 2s 4ms/step - loss: 0.5351 - accuracy: 0.7384 - val_loss: 0.5480 - val_accuracy: 0.7411\n",
      "Epoch 83/100\n",
      "686/686 [==============================] - 2s 3ms/step - loss: 0.5349 - accuracy: 0.7383 - val_loss: 0.5472 - val_accuracy: 0.7400\n",
      "Epoch 84/100\n",
      "686/686 [==============================] - 2s 3ms/step - loss: 0.5351 - accuracy: 0.7387 - val_loss: 0.5506 - val_accuracy: 0.7389\n",
      "Epoch 85/100\n",
      "686/686 [==============================] - 2s 3ms/step - loss: 0.5346 - accuracy: 0.7392 - val_loss: 0.5482 - val_accuracy: 0.7387\n",
      "Epoch 86/100\n",
      "686/686 [==============================] - 2s 3ms/step - loss: 0.5346 - accuracy: 0.7381 - val_loss: 0.5498 - val_accuracy: 0.7387\n",
      "Epoch 87/100\n",
      "686/686 [==============================] - 3s 4ms/step - loss: 0.5350 - accuracy: 0.7393 - val_loss: 0.5463 - val_accuracy: 0.7398\n",
      "Epoch 88/100\n",
      "686/686 [==============================] - 3s 4ms/step - loss: 0.5339 - accuracy: 0.7391 - val_loss: 0.5493 - val_accuracy: 0.7402\n",
      "Epoch 89/100\n",
      "686/686 [==============================] - 2s 3ms/step - loss: 0.5352 - accuracy: 0.7378 - val_loss: 0.5484 - val_accuracy: 0.7402\n",
      "Epoch 90/100\n",
      "686/686 [==============================] - 3s 4ms/step - loss: 0.5344 - accuracy: 0.7384 - val_loss: 0.5473 - val_accuracy: 0.7387\n",
      "Epoch 91/100\n",
      "686/686 [==============================] - 3s 4ms/step - loss: 0.5345 - accuracy: 0.7391 - val_loss: 0.5477 - val_accuracy: 0.7387\n",
      "Epoch 92/100\n",
      "686/686 [==============================] - 2s 4ms/step - loss: 0.5342 - accuracy: 0.7384 - val_loss: 0.5507 - val_accuracy: 0.7389\n",
      "Epoch 93/100\n",
      "686/686 [==============================] - 2s 3ms/step - loss: 0.5345 - accuracy: 0.7390 - val_loss: 0.5489 - val_accuracy: 0.7378\n",
      "Epoch 94/100\n",
      "686/686 [==============================] - 3s 4ms/step - loss: 0.5344 - accuracy: 0.7386 - val_loss: 0.5478 - val_accuracy: 0.7396\n",
      "Epoch 95/100\n",
      "686/686 [==============================] - 2s 3ms/step - loss: 0.5345 - accuracy: 0.7385 - val_loss: 0.5499 - val_accuracy: 0.7383\n",
      "Epoch 96/100\n",
      "686/686 [==============================] - 2s 3ms/step - loss: 0.5342 - accuracy: 0.7390 - val_loss: 0.5495 - val_accuracy: 0.7389\n",
      "Epoch 97/100\n",
      "686/686 [==============================] - 3s 4ms/step - loss: 0.5346 - accuracy: 0.7381 - val_loss: 0.5475 - val_accuracy: 0.7392\n",
      "Epoch 98/100\n",
      "686/686 [==============================] - 3s 4ms/step - loss: 0.5340 - accuracy: 0.7390 - val_loss: 0.5479 - val_accuracy: 0.7389\n",
      "Epoch 99/100\n",
      "686/686 [==============================] - 3s 4ms/step - loss: 0.5345 - accuracy: 0.7383 - val_loss: 0.5486 - val_accuracy: 0.7403\n",
      "Epoch 100/100\n",
      "686/686 [==============================] - 3s 4ms/step - loss: 0.5339 - accuracy: 0.7385 - val_loss: 0.5501 - val_accuracy: 0.7402\n"
     ]
    }
   ],
   "source": [
    "# Train the model\n",
    "epochs = 100\n",
    "batch_size = 32\n",
    "\n",
    "history = nn.fit(\n",
    "    X_train_scaled,  \n",
    "    y_train,         \n",
    "    epochs=epochs,\n",
    "    batch_size=batch_size,\n",
    "    validation_split=0.2,\n",
    "    verbose=1  \n",
    ")\n"
   ]
  },
  {
   "cell_type": "code",
   "execution_count": 36,
   "metadata": {},
   "outputs": [
    {
     "name": "stdout",
     "output_type": "stream",
     "text": [
      "215/215 - 1s - loss: 0.5654 - accuracy: 0.7251 - 629ms/epoch - 3ms/step\n",
      "Loss: 0.5654013156890869, Accuracy: 0.7250728607177734\n"
     ]
    }
   ],
   "source": [
    "# Evaluate the model using the test data\n",
    "model_loss, model_accuracy = nn.evaluate(X_test_scaled,y_test,verbose=2)\n",
    "print(f\"Loss: {model_loss}, Accuracy: {model_accuracy}\")"
   ]
  },
  {
   "cell_type": "code",
   "execution_count": 37,
   "metadata": {},
   "outputs": [
    {
     "data": {
      "image/png": "[encoded data removed]",
      "text/plain": [
       "<Figure size 640x480 with 1 Axes>"
      ]
     },
     "metadata": {},
     "output_type": "display_data"
    },
    {
     "data": {
      "image/png": "[encoded data removed]",
      "text/plain": [
       "<Figure size 640x480 with 1 Axes>"
      ]
     },
     "metadata": {},
     "output_type": "display_data"
    }
   ],
   "source": [
    "import matplotlib.pyplot as plt\n",
    "\n",
    "# Plot training & validation accuracy values\n",
    "plt.plot(history.history['accuracy'])\n",
    "plt.plot(history.history['val_accuracy'])\n",
    "plt.title('Model accuracy')\n",
    "plt.ylabel('Accuracy')\n",
    "plt.xlabel('Epoch')\n",
    "plt.legend(['Train', 'Val'], loc='upper left')\n",
    "plt.show()\n",
    "\n",
    "# Plot training & validation loss values\n",
    "plt.plot(history.history['loss'])\n",
    "plt.plot(history.history['val_loss'])\n",
    "plt.title('Model loss')\n",
    "plt.ylabel('Loss')\n",
    "plt.xlabel('Epoch')\n",
    "plt.legend(['Train', 'Val'], loc='upper left')\n",
    "plt.show()\n"
   ]
  },
  {
   "cell_type": "code",
   "execution_count": 38,
   "metadata": {},
   "outputs": [
    {
     "name": "stdout",
     "output_type": "stream",
     "text": [
      "Model saved to my_model.h5\n"
     ]
    },
    {
     "name": "stderr",
     "output_type": "stream",
     "text": [
      "c:\\Users\\lrpay\\anaconda3\\envs\\dev\\lib\\site-packages\\keras\\src\\engine\\training.py:3103: UserWarning: You are saving your model as an HDF5 file via `model.save()`. This file format is considered legacy. We recommend using instead the native Keras format, e.g. `model.save('my_model.keras')`.\n",
      "  saving_api.save_model(\n"
     ]
    }
   ],
   "source": [
    "# Export our model to HDF5 file\n",
    "model_file_path = 'my_model.h5'\n",
    "\n",
    "nn.save(model_file_path)\n",
    "\n",
    "print(f\"Model saved to {model_file_path}\")\n"
   ]
  }
 ],
 "metadata": {
  "kernelspec": {
   "display_name": "Python 3",
   "language": "python",
   "name": "python3"
  },
  "language_info": {
   "codemirror_mode": {
    "name": "ipython",
    "version": 3
   },
   "file_extension": ".py",
   "mimetype": "text/x-python",
   "name": "python",
   "nbconvert_exporter": "python",
   "pygments_lexer": "ipython3",
   "version": "3.10.13"
  },
  "vscode": {
   "interpreter": {
    "hash": "31f2aee4e71d21fbe5cf8b01ff0e069b9275f58929596ceb00d14d90e3e16cd6"
   }
  }
 },
 "nbformat": 4,
 "nbformat_minor": 4
}
